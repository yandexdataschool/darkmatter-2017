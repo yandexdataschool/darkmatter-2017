{
 "cells": [
  {
   "cell_type": "code",
   "execution_count": 11,
   "metadata": {
    "collapsed": true
   },
   "outputs": [],
   "source": [
    "import pandas as pd\n",
    "import glob\n",
    "import numpy as np\n",
    "from sklearn.neighbors import BallTree\n",
    "import lightgbm as lgb\n",
    "import matplotlib.pyplot as plt\n",
    "from mpl_toolkits.mplot3d import Axes3D\n",
    "from tqdm import tqdm"
   ]
  },
  {
   "cell_type": "code",
   "execution_count": 2,
   "metadata": {},
   "outputs": [
    {
     "name": "stderr",
     "output_type": "stream",
     "text": [
      "100%|██████████| 30/30 [00:20<00:00,  1.45it/s]\n"
     ]
    }
   ],
   "source": [
    "train_data = pd.DataFrame()\n",
    "for f in tqdm(glob.glob('../ivanov.pub/data/dm4/open*.h5')):\n",
    "    chunk = pd.read_hdf(f)\n",
    "    train_data = train_data.append(chunk, ignore_index=True)"
   ]
  },
  {
   "cell_type": "code",
   "execution_count": 5,
   "metadata": {},
   "outputs": [
    {
     "data": {
      "text/html": [
       "<div>\n",
       "<style scoped>\n",
       "    .dataframe tbody tr th:only-of-type {\n",
       "        vertical-align: middle;\n",
       "    }\n",
       "\n",
       "    .dataframe tbody tr th {\n",
       "        vertical-align: top;\n",
       "    }\n",
       "\n",
       "    .dataframe thead th {\n",
       "        text-align: right;\n",
       "    }\n",
       "</style>\n",
       "<table border=\"1\" class=\"dataframe\">\n",
       "  <thead>\n",
       "    <tr style=\"text-align: right;\">\n",
       "      <th></th>\n",
       "      <th>TX</th>\n",
       "      <th>TY</th>\n",
       "      <th>X</th>\n",
       "      <th>Y</th>\n",
       "      <th>Z</th>\n",
       "      <th>event_id</th>\n",
       "      <th>signal</th>\n",
       "      <th>data_ind</th>\n",
       "    </tr>\n",
       "  </thead>\n",
       "  <tbody>\n",
       "    <tr>\n",
       "      <th>0</th>\n",
       "      <td>0.768548</td>\n",
       "      <td>0.490205</td>\n",
       "      <td>46626.425781</td>\n",
       "      <td>15151.117188</td>\n",
       "      <td>72408.0</td>\n",
       "      <td>188918.0</td>\n",
       "      <td>1.0</td>\n",
       "      <td>21</td>\n",
       "    </tr>\n",
       "    <tr>\n",
       "      <th>1</th>\n",
       "      <td>-0.051122</td>\n",
       "      <td>0.129603</td>\n",
       "      <td>53538.960938</td>\n",
       "      <td>20415.228516</td>\n",
       "      <td>54306.0</td>\n",
       "      <td>186416.0</td>\n",
       "      <td>1.0</td>\n",
       "      <td>21</td>\n",
       "    </tr>\n",
       "    <tr>\n",
       "      <th>2</th>\n",
       "      <td>-0.021628</td>\n",
       "      <td>0.124414</td>\n",
       "      <td>53160.718750</td>\n",
       "      <td>19411.798828</td>\n",
       "      <td>43962.0</td>\n",
       "      <td>186416.0</td>\n",
       "      <td>1.0</td>\n",
       "      <td>21</td>\n",
       "    </tr>\n",
       "    <tr>\n",
       "      <th>3</th>\n",
       "      <td>0.335952</td>\n",
       "      <td>0.588307</td>\n",
       "      <td>36330.363281</td>\n",
       "      <td>35048.679688</td>\n",
       "      <td>32325.0</td>\n",
       "      <td>193609.0</td>\n",
       "      <td>1.0</td>\n",
       "      <td>21</td>\n",
       "    </tr>\n",
       "    <tr>\n",
       "      <th>4</th>\n",
       "      <td>-0.076334</td>\n",
       "      <td>0.013219</td>\n",
       "      <td>37970.453125</td>\n",
       "      <td>48558.988281</td>\n",
       "      <td>47841.0</td>\n",
       "      <td>194587.0</td>\n",
       "      <td>1.0</td>\n",
       "      <td>21</td>\n",
       "    </tr>\n",
       "  </tbody>\n",
       "</table>\n",
       "</div>"
      ],
      "text/plain": [
       "         TX        TY             X             Y        Z  event_id  signal  \\\n",
       "0  0.768548  0.490205  46626.425781  15151.117188  72408.0  188918.0     1.0   \n",
       "1 -0.051122  0.129603  53538.960938  20415.228516  54306.0  186416.0     1.0   \n",
       "2 -0.021628  0.124414  53160.718750  19411.798828  43962.0  186416.0     1.0   \n",
       "3  0.335952  0.588307  36330.363281  35048.679688  32325.0  193609.0     1.0   \n",
       "4 -0.076334  0.013219  37970.453125  48558.988281  47841.0  194587.0     1.0   \n",
       "\n",
       "   data_ind  \n",
       "0        21  \n",
       "1        21  \n",
       "2        21  \n",
       "3        21  \n",
       "4        21  "
      ]
     },
     "execution_count": 5,
     "metadata": {},
     "output_type": "execute_result"
    }
   ],
   "source": [
    "train_data.head()"
   ]
  },
  {
   "cell_type": "code",
   "execution_count": 3,
   "metadata": {},
   "outputs": [
    {
     "name": "stdout",
     "output_type": "stream",
     "text": [
      "(7698899, 6)\n"
     ]
    },
    {
     "data": {
      "text/html": [
       "<div>\n",
       "<style scoped>\n",
       "    .dataframe tbody tr th:only-of-type {\n",
       "        vertical-align: middle;\n",
       "    }\n",
       "\n",
       "    .dataframe tbody tr th {\n",
       "        vertical-align: top;\n",
       "    }\n",
       "\n",
       "    .dataframe thead th {\n",
       "        text-align: right;\n",
       "    }\n",
       "</style>\n",
       "<table border=\"1\" class=\"dataframe\">\n",
       "  <thead>\n",
       "    <tr style=\"text-align: right;\">\n",
       "      <th></th>\n",
       "      <th>TX</th>\n",
       "      <th>TY</th>\n",
       "      <th>X</th>\n",
       "      <th>Y</th>\n",
       "      <th>Z</th>\n",
       "      <th>data_ind</th>\n",
       "    </tr>\n",
       "  </thead>\n",
       "  <tbody>\n",
       "    <tr>\n",
       "      <th>0</th>\n",
       "      <td>0.087240</td>\n",
       "      <td>0.119438</td>\n",
       "      <td>86536.218750</td>\n",
       "      <td>62988.312500</td>\n",
       "      <td>56892.0</td>\n",
       "      <td>0</td>\n",
       "    </tr>\n",
       "    <tr>\n",
       "      <th>1</th>\n",
       "      <td>-0.380208</td>\n",
       "      <td>0.198382</td>\n",
       "      <td>93346.765625</td>\n",
       "      <td>58062.937500</td>\n",
       "      <td>14223.0</td>\n",
       "      <td>0</td>\n",
       "    </tr>\n",
       "    <tr>\n",
       "      <th>2</th>\n",
       "      <td>-0.348549</td>\n",
       "      <td>-0.099981</td>\n",
       "      <td>66129.578125</td>\n",
       "      <td>23038.673828</td>\n",
       "      <td>46548.0</td>\n",
       "      <td>0</td>\n",
       "    </tr>\n",
       "    <tr>\n",
       "      <th>3</th>\n",
       "      <td>0.585342</td>\n",
       "      <td>-0.126879</td>\n",
       "      <td>68825.523438</td>\n",
       "      <td>55186.625000</td>\n",
       "      <td>45255.0</td>\n",
       "      <td>0</td>\n",
       "    </tr>\n",
       "    <tr>\n",
       "      <th>4</th>\n",
       "      <td>0.038579</td>\n",
       "      <td>-0.131510</td>\n",
       "      <td>36366.941406</td>\n",
       "      <td>47564.878906</td>\n",
       "      <td>9051.0</td>\n",
       "      <td>0</td>\n",
       "    </tr>\n",
       "  </tbody>\n",
       "</table>\n",
       "</div>"
      ],
      "text/plain": [
       "         TX        TY             X             Y        Z  data_ind\n",
       "0  0.087240  0.119438  86536.218750  62988.312500  56892.0         0\n",
       "1 -0.380208  0.198382  93346.765625  58062.937500  14223.0         0\n",
       "2 -0.348549 -0.099981  66129.578125  23038.673828  46548.0         0\n",
       "3  0.585342 -0.126879  68825.523438  55186.625000  45255.0         0\n",
       "4  0.038579 -0.131510  36366.941406  47564.878906   9051.0         0"
      ]
     },
     "execution_count": 3,
     "metadata": {},
     "output_type": "execute_result"
    }
   ],
   "source": [
    "test_data = pd.read_hdf('../ivanov.pub/data/dm4/test_close0.h5').append(pd.read_hdf('../ivanov.pub/data/dm4/test_close10.h5'), ignore_index=True)\n",
    "print(test_data.shape)\n",
    "test_data.head()"
   ]
  },
  {
   "cell_type": "code",
   "execution_count": 8,
   "metadata": {},
   "outputs": [
    {
     "data": {
      "text/plain": [
       "array([ 21,  22,  23,  24,  25,  26,  27,  28,  29,  30,   0, 241, 242,\n",
       "       243, 244, 245, 246, 247, 248, 249, 250,   1,   2,   3,   4,   5,\n",
       "         6,   7,   8,   9,  10, 231, 232, 233, 234, 235, 236, 237, 238,\n",
       "       239, 240, 151, 152, 153, 154, 155, 156, 157, 158, 159, 160, 201,\n",
       "       202, 203, 204, 205, 206, 207, 208, 209, 210, 331, 332, 333, 334,\n",
       "       335, 336, 337, 338, 339, 340, 101, 102, 103, 104, 105, 106, 107,\n",
       "       108, 109, 110, 321, 322, 323, 324, 325, 326, 327, 328, 329, 330,\n",
       "       111, 112, 113, 114, 115, 116, 117, 118, 119, 120, 171, 172, 173,\n",
       "       174, 175, 176, 177, 178, 179, 180, 141, 142, 143, 144, 145, 146,\n",
       "       147, 148, 149, 150, 161, 162, 163, 164, 165, 166, 167, 168, 169,\n",
       "       170, 121, 122, 123, 124, 125, 126, 127, 128, 129, 130, 271, 272,\n",
       "       273, 274, 275, 276, 277, 278, 279, 280, 191, 192, 193, 194, 195,\n",
       "       196, 197, 198, 199, 200, 281, 282, 283, 284, 285, 286, 287, 288,\n",
       "       289, 290, 211, 212, 213, 214, 215, 216, 217, 218, 219, 220, 301,\n",
       "       302, 303, 304, 305, 306, 307, 308, 309, 310,  11,  12,  13,  14,\n",
       "        15,  16,  17,  18,  19,  20, 291, 292, 293, 294, 295, 296, 297,\n",
       "       298, 299, 300, 131, 132, 133, 134, 135, 136, 137, 138, 139, 140,\n",
       "       221, 222, 223, 224, 225, 226, 227, 228, 229, 230, 251, 252, 253,\n",
       "       254, 255, 256, 257, 258, 259, 260, 181, 182, 183, 184, 185, 186,\n",
       "       187, 188, 189, 190, 341, 342, 343, 344, 345, 346, 347, 348, 349,\n",
       "       350, 311, 312, 313, 314, 315, 316, 317, 318, 319, 320,  91,  92,\n",
       "        93,  94,  95,  96,  97,  98,  99, 100, 261, 262, 263, 264, 265,\n",
       "       266, 267, 268, 269, 270])"
      ]
     },
     "execution_count": 8,
     "metadata": {},
     "output_type": "execute_result"
    }
   ],
   "source": [
    "train_data.data_ind.unique()"
   ]
  },
  {
   "cell_type": "code",
   "execution_count": 5,
   "metadata": {
    "collapsed": true
   },
   "outputs": [],
   "source": [
    "ind = train_data[train_data.data_ind == 21]"
   ]
  },
  {
   "cell_type": "code",
   "execution_count": 6,
   "metadata": {},
   "outputs": [
    {
     "data": {
      "text/plain": [
       "(11110, 8)"
      ]
     },
     "execution_count": 6,
     "metadata": {},
     "output_type": "execute_result"
    }
   ],
   "source": [
    "ind.shape"
   ]
  },
  {
   "cell_type": "code",
   "execution_count": 7,
   "metadata": {},
   "outputs": [
    {
     "data": {
      "text/plain": [
       "array([188918., 186416., 193609., 194587., 195432., 187048., 189477.,\n",
       "       186997., 152635., 183053., 195401., 196995., 199468.])"
      ]
     },
     "execution_count": 7,
     "metadata": {},
     "output_type": "execute_result"
    }
   ],
   "source": [
    "ind.event_id.unique()"
   ]
  },
  {
   "cell_type": "code",
   "execution_count": 12,
   "metadata": {},
   "outputs": [
    {
     "data": {
      "image/png": "[encoded data removed]",
      "text/plain": [
       "<Figure size 432x288 with 1 Axes>"
      ]
     },
     "metadata": {},
     "output_type": "display_data"
    }
   ],
   "source": [
    "for event_id in ind.event_id.unique()[1:]:\n",
    "    ev = ind[ind.event_id == event_id]\n",
    "    ax = plt.gca(projection='3d')\n",
    "    ax.scatter3D(ev.X, ev.Y, ev.Z)"
   ]
  },
  {
   "cell_type": "code",
   "execution_count": 13,
   "metadata": {
    "collapsed": true
   },
   "outputs": [],
   "source": [
    "event = ind[ind.event_id == 188918]"
   ]
  },
  {
   "cell_type": "code",
   "execution_count": 14,
   "metadata": {
    "collapsed": true
   },
   "outputs": [],
   "source": [
    "Z = event[event.Z == 64650]\n",
    "Z_prev = event[event.Z == 63357]"
   ]
  },
  {
   "cell_type": "code",
   "execution_count": 16,
   "metadata": {},
   "outputs": [
    {
     "data": {
      "image/png": "[encoded data removed]",
      "text/plain": [
       "<Figure size 432x288 with 1 Axes>"
      ]
     },
     "metadata": {},
     "output_type": "display_data"
    }
   ],
   "source": [
    "plt.scatter(Z.X, Z.Y)\n",
    "plt.scatter(Z_prev.X, Z_prev.Y)"
   ]
  },
  {
   "cell_type": "code",
   "execution_count": 20,
   "metadata": {
    "collapsed": true
   },
   "outputs": [],
   "source": [
    "z = np.array(sorted(ind.Z.unique()))"
   ]
  },
  {
   "cell_type": "code",
   "execution_count": 21,
   "metadata": {},
   "outputs": [
    {
     "data": {
      "text/plain": [
       "array([ 275.88671875,    3.28125   , 1013.83203125, 1293.        ,\n",
       "       1293.        , 1293.        ,  196.69726562, 1096.30273438,\n",
       "        174.49414062, 1118.50585938, 1293.        , 1293.        ,\n",
       "       1293.        , 1293.        ,   77.39257812, 1215.60742188,\n",
       "       1293.        ,   37.52148438, 1255.47851562,   14.31445312,\n",
       "          5.44921875, 1269.61132812,    3.625     , 1293.        ,\n",
       "       1247.2578125 ,    4.63085938,   41.11132812, 1293.        ,\n",
       "       1209.26953125,   83.73046875, 1293.        , 1293.        ,\n",
       "       1293.        , 1293.        , 1293.        , 1293.        ,\n",
       "       1068.5859375 ,  224.4140625 , 1293.        , 1293.        ,\n",
       "       1293.        , 1293.        , 1293.        , 1293.        ,\n",
       "       1293.        , 1293.        , 1293.        , 1293.        ,\n",
       "       1293.        , 1293.        , 1293.        , 1293.        ,\n",
       "       1293.        , 1293.        , 1293.        , 1293.        ,\n",
       "       1293.        , 1293.        , 1293.        , 1293.        ,\n",
       "       1293.        , 1293.        , 1293.        , 1293.        ,\n",
       "       1293.        , 1293.        ])"
      ]
     },
     "execution_count": 21,
     "metadata": {},
     "output_type": "execute_result"
    }
   ],
   "source": [
    "z[1:] - z[:-1]"
   ]
  },
  {
   "cell_type": "code",
   "execution_count": 22,
   "metadata": {},
   "outputs": [
    {
     "name": "stdout",
     "output_type": "stream",
     "text": [
      "1293.0\n"
     ]
    }
   ],
   "source": [
    "(values,counts) = np.unique(z[1:] - z[:-1], return_counts=True)\n",
    "ind = np.argmax(counts)\n",
    "dist = values[ind]\n",
    "print(dist)"
   ]
  },
  {
   "cell_type": "code",
   "execution_count": 20,
   "metadata": {},
   "outputs": [
    {
     "data": {
      "text/plain": [
       "(array([152635., 183053., 186416., 186997., 187048., 188918., 189477.,\n",
       "        193609., 194587., 195401., 195432., 196995., 199468.],\n",
       "       dtype=float32),\n",
       " array([ 269,  751,  871, 2267,  391, 2273,  342,  920, 1830,  261,  825,\n",
       "          97,   13]))"
      ]
     },
     "execution_count": 20,
     "metadata": {},
     "output_type": "execute_result"
    }
   ],
   "source": [
    "np.unique(ind.event_id, return_counts=True)"
   ]
  },
  {
   "cell_type": "code",
   "execution_count": 23,
   "metadata": {
    "collapsed": true
   },
   "outputs": [],
   "source": [
    "columns = ['TX', 'TY', 'X', 'Y', 'Z']"
   ]
  },
  {
   "cell_type": "code",
   "execution_count": 24,
   "metadata": {
    "collapsed": true
   },
   "outputs": [],
   "source": [
    "cols_without_Z = columns[:-1]"
   ]
  },
  {
   "cell_type": "code",
   "execution_count": 25,
   "metadata": {
    "collapsed": true
   },
   "outputs": [],
   "source": [
    "def generate_pairs(df, metric):\n",
    "    pairs = []\n",
    "    for data_ind in tqdm(df.data_ind.unique()):\n",
    "        ind = df[df.data_ind == data_ind]\n",
    "        z_values = list(sorted(ind.Z.unique()))\n",
    "        \n",
    "        for z, z_next in zip(z_values, z_values[1:]):\n",
    "            z = ind[ind.Z == z].copy()\n",
    "            z_next = ind[ind.Z == z_next].copy()\n",
    "            z[['TX', 'TY']] *= dist\n",
    "            z_next[['TX', 'TY']] *= dist\n",
    "            \n",
    "            bt = BallTree(z_next[cols_without_Z], metric=metric)\n",
    "            d, i = bt.query(z[cols_without_Z])\n",
    "            data = z_next.iloc[i[:, 0]]\n",
    "            \n",
    "            for col in columns:\n",
    "                z[col + '_pair'] = data[col].values\n",
    "            if 'event_id' in data.columns:\n",
    "                z['same_pair'] = data.event_id.values == z.event_id.values\n",
    "            pairs.append(z)\n",
    "            \n",
    "        pairs.append(z_next)\n",
    "        \n",
    "    pairs = pd.concat(pairs)\n",
    "    for col in columns:\n",
    "        pairs['d' + col] = pairs[col].values - pairs[col + '_pair'].values\n",
    "    return pairs"
   ]
  },
  {
   "cell_type": "code",
   "execution_count": 26,
   "metadata": {},
   "outputs": [
    {
     "name": "stderr",
     "output_type": "stream",
     "text": [
      "100%|██████████| 291/291 [02:40<00:00,  1.81it/s]\n",
      "/home/lukanin/miniconda3/lib/python3.6/site-packages/ipykernel_launcher.py:25: FutureWarning: Sorting because non-concatenation axis is not aligned. A future version\n",
      "of pandas will change to not sort by default.\n",
      "\n",
      "To accept the future behavior, pass 'sort=True'.\n",
      "\n",
      "To retain the current behavior and silence the warning, pass sort=False\n",
      "\n"
     ]
    },
    {
     "data": {
      "text/html": [
       "<div>\n",
       "<style scoped>\n",
       "    .dataframe tbody tr th:only-of-type {\n",
       "        vertical-align: middle;\n",
       "    }\n",
       "\n",
       "    .dataframe tbody tr th {\n",
       "        vertical-align: top;\n",
       "    }\n",
       "\n",
       "    .dataframe thead th {\n",
       "        text-align: right;\n",
       "    }\n",
       "</style>\n",
       "<table border=\"1\" class=\"dataframe\">\n",
       "  <thead>\n",
       "    <tr style=\"text-align: right;\">\n",
       "      <th></th>\n",
       "      <th>TX</th>\n",
       "      <th>TX_pair</th>\n",
       "      <th>TY</th>\n",
       "      <th>TY_pair</th>\n",
       "      <th>X</th>\n",
       "      <th>X_pair</th>\n",
       "      <th>Y</th>\n",
       "      <th>Y_pair</th>\n",
       "      <th>Z</th>\n",
       "      <th>Z_pair</th>\n",
       "      <th>data_ind</th>\n",
       "      <th>event_id</th>\n",
       "      <th>same_pair</th>\n",
       "      <th>signal</th>\n",
       "      <th>dTX</th>\n",
       "      <th>dTY</th>\n",
       "      <th>dX</th>\n",
       "      <th>dY</th>\n",
       "      <th>dZ</th>\n",
       "    </tr>\n",
       "  </thead>\n",
       "  <tbody>\n",
       "    <tr>\n",
       "      <th>9410</th>\n",
       "      <td>-120.490211</td>\n",
       "      <td>74.753609</td>\n",
       "      <td>444.966217</td>\n",
       "      <td>397.600922</td>\n",
       "      <td>38500.425781</td>\n",
       "      <td>40560.890625</td>\n",
       "      <td>25600.734375</td>\n",
       "      <td>47039.101562</td>\n",
       "      <td>3879.000000</td>\n",
       "      <td>4154.886719</td>\n",
       "      <td>21</td>\n",
       "      <td>193609.0</td>\n",
       "      <td>False</td>\n",
       "      <td>1.0</td>\n",
       "      <td>-195.243820</td>\n",
       "      <td>47.365295</td>\n",
       "      <td>-2060.464844</td>\n",
       "      <td>-21438.367188</td>\n",
       "      <td>-275.886719</td>\n",
       "    </tr>\n",
       "    <tr>\n",
       "      <th>10729</th>\n",
       "      <td>64.776703</td>\n",
       "      <td>74.753609</td>\n",
       "      <td>363.636444</td>\n",
       "      <td>397.600922</td>\n",
       "      <td>40566.082031</td>\n",
       "      <td>40560.890625</td>\n",
       "      <td>47068.250000</td>\n",
       "      <td>47039.101562</td>\n",
       "      <td>3879.000000</td>\n",
       "      <td>4154.886719</td>\n",
       "      <td>21</td>\n",
       "      <td>183053.0</td>\n",
       "      <td>True</td>\n",
       "      <td>1.0</td>\n",
       "      <td>-9.976906</td>\n",
       "      <td>-33.964478</td>\n",
       "      <td>5.191406</td>\n",
       "      <td>29.148438</td>\n",
       "      <td>-275.886719</td>\n",
       "    </tr>\n",
       "    <tr>\n",
       "      <th>4136</th>\n",
       "      <td>74.753609</td>\n",
       "      <td>-106.954178</td>\n",
       "      <td>397.600922</td>\n",
       "      <td>454.387695</td>\n",
       "      <td>40560.890625</td>\n",
       "      <td>38509.781250</td>\n",
       "      <td>47039.101562</td>\n",
       "      <td>25566.177734</td>\n",
       "      <td>4154.886719</td>\n",
       "      <td>4158.167969</td>\n",
       "      <td>21</td>\n",
       "      <td>183053.0</td>\n",
       "      <td>False</td>\n",
       "      <td>1.0</td>\n",
       "      <td>181.707794</td>\n",
       "      <td>-56.786774</td>\n",
       "      <td>2051.109375</td>\n",
       "      <td>21472.923828</td>\n",
       "      <td>-3.281250</td>\n",
       "    </tr>\n",
       "    <tr>\n",
       "      <th>6200</th>\n",
       "      <td>-106.954178</td>\n",
       "      <td>-117.631310</td>\n",
       "      <td>454.387695</td>\n",
       "      <td>444.702545</td>\n",
       "      <td>38509.781250</td>\n",
       "      <td>38386.769531</td>\n",
       "      <td>25566.177734</td>\n",
       "      <td>26033.638672</td>\n",
       "      <td>4158.167969</td>\n",
       "      <td>5172.000000</td>\n",
       "      <td>21</td>\n",
       "      <td>195432.0</td>\n",
       "      <td>False</td>\n",
       "      <td>1.0</td>\n",
       "      <td>10.677132</td>\n",
       "      <td>9.685150</td>\n",
       "      <td>123.011719</td>\n",
       "      <td>-467.460938</td>\n",
       "      <td>-1013.832031</td>\n",
       "    </tr>\n",
       "    <tr>\n",
       "      <th>3988</th>\n",
       "      <td>-117.631310</td>\n",
       "      <td>-114.252213</td>\n",
       "      <td>444.702545</td>\n",
       "      <td>441.472931</td>\n",
       "      <td>38386.769531</td>\n",
       "      <td>38273.128906</td>\n",
       "      <td>26033.638672</td>\n",
       "      <td>26465.855469</td>\n",
       "      <td>5172.000000</td>\n",
       "      <td>6465.000000</td>\n",
       "      <td>21</td>\n",
       "      <td>193609.0</td>\n",
       "      <td>True</td>\n",
       "      <td>1.0</td>\n",
       "      <td>-3.379097</td>\n",
       "      <td>3.229614</td>\n",
       "      <td>113.640625</td>\n",
       "      <td>-432.216797</td>\n",
       "      <td>-1293.000000</td>\n",
       "    </tr>\n",
       "  </tbody>\n",
       "</table>\n",
       "</div>"
      ],
      "text/plain": [
       "               TX     TX_pair          TY     TY_pair             X  \\\n",
       "9410  -120.490211   74.753609  444.966217  397.600922  38500.425781   \n",
       "10729   64.776703   74.753609  363.636444  397.600922  40566.082031   \n",
       "4136    74.753609 -106.954178  397.600922  454.387695  40560.890625   \n",
       "6200  -106.954178 -117.631310  454.387695  444.702545  38509.781250   \n",
       "3988  -117.631310 -114.252213  444.702545  441.472931  38386.769531   \n",
       "\n",
       "             X_pair             Y        Y_pair            Z       Z_pair  \\\n",
       "9410   40560.890625  25600.734375  47039.101562  3879.000000  4154.886719   \n",
       "10729  40560.890625  47068.250000  47039.101562  3879.000000  4154.886719   \n",
       "4136   38509.781250  47039.101562  25566.177734  4154.886719  4158.167969   \n",
       "6200   38386.769531  25566.177734  26033.638672  4158.167969  5172.000000   \n",
       "3988   38273.128906  26033.638672  26465.855469  5172.000000  6465.000000   \n",
       "\n",
       "       data_ind  event_id same_pair  signal         dTX        dTY  \\\n",
       "9410         21  193609.0     False     1.0 -195.243820  47.365295   \n",
       "10729        21  183053.0      True     1.0   -9.976906 -33.964478   \n",
       "4136         21  183053.0     False     1.0  181.707794 -56.786774   \n",
       "6200         21  195432.0     False     1.0   10.677132   9.685150   \n",
       "3988         21  193609.0      True     1.0   -3.379097   3.229614   \n",
       "\n",
       "                dX            dY           dZ  \n",
       "9410  -2060.464844 -21438.367188  -275.886719  \n",
       "10729     5.191406     29.148438  -275.886719  \n",
       "4136   2051.109375  21472.923828    -3.281250  \n",
       "6200    123.011719   -467.460938 -1013.832031  \n",
       "3988    113.640625   -432.216797 -1293.000000  "
      ]
     },
     "execution_count": 26,
     "metadata": {},
     "output_type": "execute_result"
    }
   ],
   "source": [
    "train_pairs = generate_pairs(train_data, 'minkowski')\n",
    "train_pairs.head()"
   ]
  },
  {
   "cell_type": "code",
   "execution_count": 27,
   "metadata": {},
   "outputs": [
    {
     "data": {
      "text/html": [
       "<div>\n",
       "<style scoped>\n",
       "    .dataframe tbody tr th:only-of-type {\n",
       "        vertical-align: middle;\n",
       "    }\n",
       "\n",
       "    .dataframe tbody tr th {\n",
       "        vertical-align: top;\n",
       "    }\n",
       "\n",
       "    .dataframe thead th {\n",
       "        text-align: right;\n",
       "    }\n",
       "</style>\n",
       "<table border=\"1\" class=\"dataframe\">\n",
       "  <thead>\n",
       "    <tr style=\"text-align: right;\">\n",
       "      <th></th>\n",
       "      <th>TX</th>\n",
       "      <th>TX_pair</th>\n",
       "      <th>TY</th>\n",
       "      <th>TY_pair</th>\n",
       "      <th>X</th>\n",
       "      <th>X_pair</th>\n",
       "      <th>Y</th>\n",
       "      <th>Y_pair</th>\n",
       "      <th>Z</th>\n",
       "      <th>Z_pair</th>\n",
       "      <th>dTX</th>\n",
       "      <th>dTY</th>\n",
       "      <th>dX</th>\n",
       "      <th>dY</th>\n",
       "      <th>dZ</th>\n",
       "    </tr>\n",
       "  </thead>\n",
       "  <tbody>\n",
       "    <tr>\n",
       "      <th>9410</th>\n",
       "      <td>-120.490211</td>\n",
       "      <td>74.753609</td>\n",
       "      <td>444.966217</td>\n",
       "      <td>397.600922</td>\n",
       "      <td>38500.425781</td>\n",
       "      <td>40560.890625</td>\n",
       "      <td>25600.734375</td>\n",
       "      <td>47039.101562</td>\n",
       "      <td>3879.000000</td>\n",
       "      <td>4154.886719</td>\n",
       "      <td>-195.243820</td>\n",
       "      <td>47.365295</td>\n",
       "      <td>-2060.464844</td>\n",
       "      <td>-21438.367188</td>\n",
       "      <td>-275.886719</td>\n",
       "    </tr>\n",
       "    <tr>\n",
       "      <th>10729</th>\n",
       "      <td>64.776703</td>\n",
       "      <td>74.753609</td>\n",
       "      <td>363.636444</td>\n",
       "      <td>397.600922</td>\n",
       "      <td>40566.082031</td>\n",
       "      <td>40560.890625</td>\n",
       "      <td>47068.250000</td>\n",
       "      <td>47039.101562</td>\n",
       "      <td>3879.000000</td>\n",
       "      <td>4154.886719</td>\n",
       "      <td>-9.976906</td>\n",
       "      <td>-33.964478</td>\n",
       "      <td>5.191406</td>\n",
       "      <td>29.148438</td>\n",
       "      <td>-275.886719</td>\n",
       "    </tr>\n",
       "    <tr>\n",
       "      <th>4136</th>\n",
       "      <td>74.753609</td>\n",
       "      <td>-106.954178</td>\n",
       "      <td>397.600922</td>\n",
       "      <td>454.387695</td>\n",
       "      <td>40560.890625</td>\n",
       "      <td>38509.781250</td>\n",
       "      <td>47039.101562</td>\n",
       "      <td>25566.177734</td>\n",
       "      <td>4154.886719</td>\n",
       "      <td>4158.167969</td>\n",
       "      <td>181.707794</td>\n",
       "      <td>-56.786774</td>\n",
       "      <td>2051.109375</td>\n",
       "      <td>21472.923828</td>\n",
       "      <td>-3.281250</td>\n",
       "    </tr>\n",
       "    <tr>\n",
       "      <th>6200</th>\n",
       "      <td>-106.954178</td>\n",
       "      <td>-117.631310</td>\n",
       "      <td>454.387695</td>\n",
       "      <td>444.702545</td>\n",
       "      <td>38509.781250</td>\n",
       "      <td>38386.769531</td>\n",
       "      <td>25566.177734</td>\n",
       "      <td>26033.638672</td>\n",
       "      <td>4158.167969</td>\n",
       "      <td>5172.000000</td>\n",
       "      <td>10.677132</td>\n",
       "      <td>9.685150</td>\n",
       "      <td>123.011719</td>\n",
       "      <td>-467.460938</td>\n",
       "      <td>-1013.832031</td>\n",
       "    </tr>\n",
       "    <tr>\n",
       "      <th>3988</th>\n",
       "      <td>-117.631310</td>\n",
       "      <td>-114.252213</td>\n",
       "      <td>444.702545</td>\n",
       "      <td>441.472931</td>\n",
       "      <td>38386.769531</td>\n",
       "      <td>38273.128906</td>\n",
       "      <td>26033.638672</td>\n",
       "      <td>26465.855469</td>\n",
       "      <td>5172.000000</td>\n",
       "      <td>6465.000000</td>\n",
       "      <td>-3.379097</td>\n",
       "      <td>3.229614</td>\n",
       "      <td>113.640625</td>\n",
       "      <td>-432.216797</td>\n",
       "      <td>-1293.000000</td>\n",
       "    </tr>\n",
       "  </tbody>\n",
       "</table>\n",
       "</div>"
      ],
      "text/plain": [
       "               TX     TX_pair          TY     TY_pair             X  \\\n",
       "9410  -120.490211   74.753609  444.966217  397.600922  38500.425781   \n",
       "10729   64.776703   74.753609  363.636444  397.600922  40566.082031   \n",
       "4136    74.753609 -106.954178  397.600922  454.387695  40560.890625   \n",
       "6200  -106.954178 -117.631310  454.387695  444.702545  38509.781250   \n",
       "3988  -117.631310 -114.252213  444.702545  441.472931  38386.769531   \n",
       "\n",
       "             X_pair             Y        Y_pair            Z       Z_pair  \\\n",
       "9410   40560.890625  25600.734375  47039.101562  3879.000000  4154.886719   \n",
       "10729  40560.890625  47068.250000  47039.101562  3879.000000  4154.886719   \n",
       "4136   38509.781250  47039.101562  25566.177734  4154.886719  4158.167969   \n",
       "6200   38386.769531  25566.177734  26033.638672  4158.167969  5172.000000   \n",
       "3988   38273.128906  26033.638672  26465.855469  5172.000000  6465.000000   \n",
       "\n",
       "              dTX        dTY           dX            dY           dZ  \n",
       "9410  -195.243820  47.365295 -2060.464844 -21438.367188  -275.886719  \n",
       "10729   -9.976906 -33.964478     5.191406     29.148438  -275.886719  \n",
       "4136   181.707794 -56.786774  2051.109375  21472.923828    -3.281250  \n",
       "6200    10.677132   9.685150   123.011719   -467.460938 -1013.832031  \n",
       "3988    -3.379097   3.229614   113.640625   -432.216797 -1293.000000  "
      ]
     },
     "execution_count": 27,
     "metadata": {},
     "output_type": "execute_result"
    }
   ],
   "source": [
    "X_train = train_pairs[train_pairs.same_pair.notnull()]\n",
    "y_train = X_train['same_pair'].astype(int)\n",
    "X_train = X_train.drop(['event_id', 'signal', 'data_ind', 'same_pair'], axis=1)\n",
    "X_train.head()"
   ]
  },
  {
   "cell_type": "code",
   "execution_count": 28,
   "metadata": {
    "collapsed": true
   },
   "outputs": [],
   "source": [
    "lgb_train = lgb.Dataset(X_train, y_train)\n",
    "params = {\n",
    "    'boosting_type': 'gbdt',\n",
    "    'objective': 'binary',\n",
    "    'metric': 'auc',\n",
    "    'num_leaves': 31,\n",
    "    'learning_rate': 0.05,\n",
    "    'max_depth': 15,\n",
    "    'feature_fraction': 0.7,\n",
    "    'bagging_fraction': 0.7,\n",
    "    'bagging_freq': 4\n",
    "}"
   ]
  },
  {
   "cell_type": "code",
   "execution_count": 30,
   "metadata": {},
   "outputs": [
    {
     "data": {
      "text/plain": [
       "{'auc-mean': [0.9360419168171263,\n",
       "  0.9459629647439616,\n",
       "  0.9469070197332842,\n",
       "  0.9484114507865897,\n",
       "  0.9485582126996087,\n",
       "  0.9485410227980562,\n",
       "  0.9491523664631429,\n",
       "  0.9501661200534889,\n",
       "  0.9503340113520519,\n",
       "  0.9504674203257659,\n",
       "  0.9507355505069208,\n",
       "  0.9506931054453969,\n",
       "  0.9508888834850426,\n",
       "  0.9508931219345303,\n",
       "  0.9508635286832163,\n",
       "  0.9513294521635265,\n",
       "  0.9514030609516553,\n",
       "  0.9518175200318442,\n",
       "  0.9518977667524698,\n",
       "  0.9498278119995467],\n",
       " 'auc-stdv': [0.0006203368883412076,\n",
       "  0.0009769691729005054,\n",
       "  0.0006602733347053951,\n",
       "  0.00048695005071242655,\n",
       "  0.0004347015896929549,\n",
       "  0.0004074524453614194,\n",
       "  7.159013384017212e-05,\n",
       "  0.00022502935106278606,\n",
       "  0.00021562573626282856,\n",
       "  0.0004257931543941137,\n",
       "  0.0005017003209245992,\n",
       "  0.0005195801415103468,\n",
       "  0.0004541841951060927,\n",
       "  0.0003706682567490245,\n",
       "  0.00031894317201731513,\n",
       "  0.0004017302666408957,\n",
       "  0.00039633810601441853,\n",
       "  0.0004276137969369693,\n",
       "  0.0004221065135903712,\n",
       "  0.00045794150612585933]}"
      ]
     },
     "execution_count": 30,
     "metadata": {},
     "output_type": "execute_result"
    }
   ],
   "source": [
    "num_round = 20\n",
    "lgb.cv(params, lgb_train, num_round, nfold=5)"
   ]
  },
  {
   "cell_type": "code",
   "execution_count": 32,
   "metadata": {
    "collapsed": true
   },
   "outputs": [],
   "source": [
    "num_round = 100\n",
    "bst = lgb.train(params, lgb_train, num_round)"
   ]
  },
  {
   "cell_type": "code",
   "execution_count": 33,
   "metadata": {},
   "outputs": [
    {
     "name": "stderr",
     "output_type": "stream",
     "text": [
      "100%|██████████| 11/11 [00:29<00:00,  2.67s/it]\n",
      "/home/lukanin/miniconda3/lib/python3.6/site-packages/ipykernel_launcher.py:25: FutureWarning: Sorting because non-concatenation axis is not aligned. A future version\n",
      "of pandas will change to not sort by default.\n",
      "\n",
      "To accept the future behavior, pass 'sort=True'.\n",
      "\n",
      "To retain the current behavior and silence the warning, pass sort=False\n",
      "\n"
     ]
    }
   ],
   "source": [
    "test_pairs = generate_pairs(test_data, 'minkowski')"
   ]
  },
  {
   "cell_type": "code",
   "execution_count": 34,
   "metadata": {},
   "outputs": [
    {
     "data": {
      "text/html": [
       "<div>\n",
       "<style scoped>\n",
       "    .dataframe tbody tr th:only-of-type {\n",
       "        vertical-align: middle;\n",
       "    }\n",
       "\n",
       "    .dataframe tbody tr th {\n",
       "        vertical-align: top;\n",
       "    }\n",
       "\n",
       "    .dataframe thead th {\n",
       "        text-align: right;\n",
       "    }\n",
       "</style>\n",
       "<table border=\"1\" class=\"dataframe\">\n",
       "  <thead>\n",
       "    <tr style=\"text-align: right;\">\n",
       "      <th></th>\n",
       "      <th>TX</th>\n",
       "      <th>TX_pair</th>\n",
       "      <th>TY</th>\n",
       "      <th>TY_pair</th>\n",
       "      <th>X</th>\n",
       "      <th>X_pair</th>\n",
       "      <th>Y</th>\n",
       "      <th>Y_pair</th>\n",
       "      <th>Z</th>\n",
       "      <th>Z_pair</th>\n",
       "      <th>dTX</th>\n",
       "      <th>dTY</th>\n",
       "      <th>dX</th>\n",
       "      <th>dY</th>\n",
       "      <th>dZ</th>\n",
       "    </tr>\n",
       "  </thead>\n",
       "  <tbody>\n",
       "    <tr>\n",
       "      <th>0</th>\n",
       "      <td>-193.084152</td>\n",
       "      <td>-350.331818</td>\n",
       "      <td>623.975891</td>\n",
       "      <td>437.505890</td>\n",
       "      <td>37949.000000</td>\n",
       "      <td>38081.851562</td>\n",
       "      <td>24967.570312</td>\n",
       "      <td>24522.312500</td>\n",
       "      <td>0.0</td>\n",
       "      <td>1293.0</td>\n",
       "      <td>157.247665</td>\n",
       "      <td>186.470001</td>\n",
       "      <td>-132.851562</td>\n",
       "      <td>445.257812</td>\n",
       "      <td>-1293.0</td>\n",
       "    </tr>\n",
       "    <tr>\n",
       "      <th>1</th>\n",
       "      <td>-225.433212</td>\n",
       "      <td>-380.564331</td>\n",
       "      <td>-367.239899</td>\n",
       "      <td>458.562836</td>\n",
       "      <td>39335.953125</td>\n",
       "      <td>39409.578125</td>\n",
       "      <td>49094.968750</td>\n",
       "      <td>49534.917969</td>\n",
       "      <td>0.0</td>\n",
       "      <td>1293.0</td>\n",
       "      <td>155.131119</td>\n",
       "      <td>-825.802734</td>\n",
       "      <td>-73.625000</td>\n",
       "      <td>-439.949219</td>\n",
       "      <td>-1293.0</td>\n",
       "    </tr>\n",
       "    <tr>\n",
       "      <th>2</th>\n",
       "      <td>-288.543915</td>\n",
       "      <td>-166.982605</td>\n",
       "      <td>744.821838</td>\n",
       "      <td>638.900269</td>\n",
       "      <td>51992.125000</td>\n",
       "      <td>51851.539062</td>\n",
       "      <td>74045.695312</td>\n",
       "      <td>73873.390625</td>\n",
       "      <td>0.0</td>\n",
       "      <td>1293.0</td>\n",
       "      <td>-121.561310</td>\n",
       "      <td>105.921570</td>\n",
       "      <td>140.585938</td>\n",
       "      <td>172.304688</td>\n",
       "      <td>-1293.0</td>\n",
       "    </tr>\n",
       "    <tr>\n",
       "      <th>3</th>\n",
       "      <td>-131.043716</td>\n",
       "      <td>-486.173767</td>\n",
       "      <td>-389.968414</td>\n",
       "      <td>107.317078</td>\n",
       "      <td>29508.035156</td>\n",
       "      <td>29299.156250</td>\n",
       "      <td>67410.984375</td>\n",
       "      <td>67238.296875</td>\n",
       "      <td>0.0</td>\n",
       "      <td>1293.0</td>\n",
       "      <td>355.130066</td>\n",
       "      <td>-497.285492</td>\n",
       "      <td>208.878906</td>\n",
       "      <td>172.687500</td>\n",
       "      <td>-1293.0</td>\n",
       "    </tr>\n",
       "    <tr>\n",
       "      <th>4</th>\n",
       "      <td>-233.201782</td>\n",
       "      <td>135.409042</td>\n",
       "      <td>573.095337</td>\n",
       "      <td>775.318970</td>\n",
       "      <td>67685.781250</td>\n",
       "      <td>67272.015625</td>\n",
       "      <td>75164.359375</td>\n",
       "      <td>75664.359375</td>\n",
       "      <td>0.0</td>\n",
       "      <td>1293.0</td>\n",
       "      <td>-368.610840</td>\n",
       "      <td>-202.223633</td>\n",
       "      <td>413.765625</td>\n",
       "      <td>-500.000000</td>\n",
       "      <td>-1293.0</td>\n",
       "    </tr>\n",
       "  </tbody>\n",
       "</table>\n",
       "</div>"
      ],
      "text/plain": [
       "           TX     TX_pair          TY     TY_pair             X        X_pair  \\\n",
       "0 -193.084152 -350.331818  623.975891  437.505890  37949.000000  38081.851562   \n",
       "1 -225.433212 -380.564331 -367.239899  458.562836  39335.953125  39409.578125   \n",
       "2 -288.543915 -166.982605  744.821838  638.900269  51992.125000  51851.539062   \n",
       "3 -131.043716 -486.173767 -389.968414  107.317078  29508.035156  29299.156250   \n",
       "4 -233.201782  135.409042  573.095337  775.318970  67685.781250  67272.015625   \n",
       "\n",
       "              Y        Y_pair    Z  Z_pair         dTX         dTY  \\\n",
       "0  24967.570312  24522.312500  0.0  1293.0  157.247665  186.470001   \n",
       "1  49094.968750  49534.917969  0.0  1293.0  155.131119 -825.802734   \n",
       "2  74045.695312  73873.390625  0.0  1293.0 -121.561310  105.921570   \n",
       "3  67410.984375  67238.296875  0.0  1293.0  355.130066 -497.285492   \n",
       "4  75164.359375  75664.359375  0.0  1293.0 -368.610840 -202.223633   \n",
       "\n",
       "           dX          dY      dZ  \n",
       "0 -132.851562  445.257812 -1293.0  \n",
       "1  -73.625000 -439.949219 -1293.0  \n",
       "2  140.585938  172.304688 -1293.0  \n",
       "3  208.878906  172.687500 -1293.0  \n",
       "4  413.765625 -500.000000 -1293.0  "
      ]
     },
     "execution_count": 34,
     "metadata": {},
     "output_type": "execute_result"
    }
   ],
   "source": [
    "X_test = test_pairs.drop(['data_ind'], axis=1).reset_index(drop=True)\n",
    "X_test.head()"
   ]
  },
  {
   "cell_type": "code",
   "execution_count": 35,
   "metadata": {
    "collapsed": true
   },
   "outputs": [],
   "source": [
    "y_pred = bst.predict(X_test)"
   ]
  },
  {
   "cell_type": "code",
   "execution_count": 38,
   "metadata": {
    "collapsed": true
   },
   "outputs": [],
   "source": [
    "raw = pd.DataFrame({'id': test_pairs.index, 'prob': y_pred}).groupby('id')\n",
    "agg = raw.aggregate(('mean', 'max', 'min'))['prob']"
   ]
  },
  {
   "cell_type": "code",
   "execution_count": 55,
   "metadata": {},
   "outputs": [
    {
     "data": {
      "text/html": [
       "<div>\n",
       "<style scoped>\n",
       "    .dataframe tbody tr th:only-of-type {\n",
       "        vertical-align: middle;\n",
       "    }\n",
       "\n",
       "    .dataframe tbody tr th {\n",
       "        vertical-align: top;\n",
       "    }\n",
       "\n",
       "    .dataframe thead th {\n",
       "        text-align: right;\n",
       "    }\n",
       "</style>\n",
       "<table border=\"1\" class=\"dataframe\">\n",
       "  <thead>\n",
       "    <tr style=\"text-align: right;\">\n",
       "      <th></th>\n",
       "      <th>id</th>\n",
       "      <th>signal</th>\n",
       "    </tr>\n",
       "  </thead>\n",
       "  <tbody>\n",
       "    <tr>\n",
       "      <th>0</th>\n",
       "      <td>0</td>\n",
       "      <td>0.12415</td>\n",
       "    </tr>\n",
       "    <tr>\n",
       "      <th>1</th>\n",
       "      <td>1</td>\n",
       "      <td>0.02826</td>\n",
       "    </tr>\n",
       "    <tr>\n",
       "      <th>2</th>\n",
       "      <td>2</td>\n",
       "      <td>0.22420</td>\n",
       "    </tr>\n",
       "    <tr>\n",
       "      <th>3</th>\n",
       "      <td>3</td>\n",
       "      <td>0.07140</td>\n",
       "    </tr>\n",
       "    <tr>\n",
       "      <th>4</th>\n",
       "      <td>4</td>\n",
       "      <td>0.02492</td>\n",
       "    </tr>\n",
       "  </tbody>\n",
       "</table>\n",
       "</div>"
      ],
      "text/plain": [
       "   id   signal\n",
       "0   0  0.12415\n",
       "1   1  0.02826\n",
       "2   2  0.22420\n",
       "3   3  0.07140\n",
       "4   4  0.02492"
      ]
     },
     "execution_count": 55,
     "metadata": {},
     "output_type": "execute_result"
    }
   ],
   "source": [
    "answer = pd.DataFrame(data={'id': agg.index, 'signal': agg['mean'].values})\n",
    "answer.head()"
   ]
  },
  {
   "cell_type": "code",
   "execution_count": 56,
   "metadata": {},
   "outputs": [
    {
     "data": {
      "text/plain": [
       "901447"
      ]
     },
     "execution_count": 56,
     "metadata": {},
     "output_type": "execute_result"
    }
   ],
   "source": [
    "(answer.signal > .5).sum()"
   ]
  },
  {
   "cell_type": "code",
   "execution_count": 65,
   "metadata": {
    "collapsed": true
   },
   "outputs": [],
   "source": [
    "answer.to_csv('submit.csv', index=False)"
   ]
  }
 ],
 "metadata": {
  "kernelspec": {
   "display_name": "Python 3",
   "language": "python",
   "name": "python3"
  },
  "language_info": {
   "codemirror_mode": {
    "name": "ipython",
    "version": 3
   },
   "file_extension": ".py",
   "mimetype": "text/x-python",
   "name": "python",
   "nbconvert_exporter": "python",
   "pygments_lexer": "ipython3",
   "version": "3.6.1"
  }
 },
 "nbformat": 4,
 "nbformat_minor": 2
}
